{
 "cells": [
  {
   "cell_type": "markdown",
   "id": "fa7cce2b-8e48-42b7-907b-824190a4861b",
   "metadata": {},
   "source": [
    "## Regresion Lineal: Costo de un incidente de Seguridad.\n",
    "\n",
    "En este ejercicio se explican los fundamentos basicos de la regresion lineal, aplicada a un caso de uso sencillo relacionado con la Ciberseguridad.\n",
    "\n",
    "## Enunciado del ejercicio.\n",
    "\n",
    "El ejercicio consiste en predecir el costo de un incidente de seguridad en base al numero de equipos que se han visto afectados. El conjunto de datos es genrado de  manera aleatoria."
   ]
  },
  {
   "cell_type": "markdown",
   "id": "a580f6b4-b167-4909-b008-bec6faaafc62",
   "metadata": {},
   "source": [
    "# 1.- Generacion del DataSet"
   ]
  },
  {
   "cell_type": "code",
   "execution_count": null,
   "id": "af2a6bc3-4668-481e-9087-1f4b491f48ab",
   "metadata": {},
   "outputs": [],
   "source": [
    "import numpy as np\n",
    "\n",
    "X = 2 * np.random.rand(100, 1)\n",
    "y = 4 + 3 * X + np.random.randn(100, 1)\n",
    "\n",
    "print(\"La longitud del DataSet es: \", len(X))\n",
    "\n"
   ]
  },
  {
   "cell_type": "markdown",
   "id": "042e3c2a-4d75-41aa-b2d7-76c355aeb1cc",
   "metadata": {},
   "source": [
    "# 2.- Visualizacion del DataSet"
   ]
  },
  {
   "cell_type": "code",
   "execution_count": null,
   "id": "d05c8529-3f5c-4eef-8644-b276b4493cd2",
   "metadata": {},
   "outputs": [],
   "source": [
    "import matplotlib.pyplot as plt\n",
    "%matplotlib inline"
   ]
  },
  {
   "cell_type": "code",
   "execution_count": null,
   "id": "37139bf9-6b71-4b9b-901b-9b9691257227",
   "metadata": {},
   "outputs": [],
   "source": [
    "plt.plot(X, y, \"b.\")\n",
    "plt.show()"
   ]
  },
  {
   "cell_type": "markdown",
   "id": "34262acf-7653-4f1f-b8de-ba1927511cb9",
   "metadata": {},
   "source": [
    "<img src=\"http://localhost:5000/archivos/2.png\">"
   ]
  },
  {
   "cell_type": "code",
   "execution_count": null,
   "id": "86f7893b-6c92-4678-8848-6986d62c7c47",
   "metadata": {},
   "outputs": [],
   "source": [
    "plt.plot(X, y, \"b.\")\n",
    "plt.xlabel(\"Equipos afectados (u/1,000)\")\n",
    "plt.ylabel(\"Costo del Incidente (u/10,000)\")\n",
    "plt.show()"
   ]
  },
  {
   "cell_type": "markdown",
   "id": "abd229fc-bd3e-4e38-8779-4a5d3ca2c36a",
   "metadata": {},
   "source": [
    "<img src=\"http://localhost:5000/archivos/3.png\">"
   ]
  },
  {
   "cell_type": "markdown",
   "id": "44704bd9-2c8c-4eda-874c-38bfd1c85342",
   "metadata": {},
   "source": [
    "# 3.- Modificacion del DataSet"
   ]
  },
  {
   "cell_type": "code",
   "execution_count": null,
   "id": "66ced6ec-f01d-40f6-8dce-33b8ced6464f",
   "metadata": {},
   "outputs": [],
   "source": [
    "import pandas as pd"
   ]
  },
  {
   "cell_type": "code",
   "execution_count": null,
   "id": "c1fda70b-72a8-4bf4-b070-2292f264e03e",
   "metadata": {},
   "outputs": [],
   "source": [
    "data = {'No_Equipos_Afectados': X.flatten(), 'Costo': y.flatten()}\n",
    "df = pd.DataFrame(data)\n",
    "df.head(10)\n"
   ]
  },
  {
   "cell_type": "code",
   "execution_count": null,
   "id": "1d5bfa1b-5eb6-40ee-8cda-978737cfd0a5",
   "metadata": {},
   "outputs": [],
   "source": [
    "# Escalado del numero de equipos afcetados\n",
    "df['No_Equipos_Afectados'] = df['No_Equipos_Afectados'] * 1000\n",
    "df['No_Equipos_Afectados'] = df['No_Equipos_Afectados'].astype('int')\n",
    "# Ecalado del Costo\n",
    "df['Costo'] = df['Costo'] * 10000\n",
    "df['Costo'] = df['Costo'].astype('int')\n",
    "df.head(10)"
   ]
  },
  {
   "cell_type": "code",
   "execution_count": null,
   "id": "c10df590-1aca-4d30-b843-6cbaa98db4f1",
   "metadata": {},
   "outputs": [],
   "source": [
    "plt.plot(df['No_Equipos_Afectados'], df['Costo'], \"b.\")\n",
    "plt.xlabel(\"Equipos afectados\")\n",
    "plt.ylabel(\"Costo del Incidente\")\n",
    "plt.show()"
   ]
  },
  {
   "cell_type": "markdown",
   "id": "e2d53f1b-8dc9-49ac-8a01-8a75c4e4a062",
   "metadata": {},
   "source": [
    "<img src=\"http://localhost:5000/archivos/1.png\">\n"
   ]
  },
  {
   "cell_type": "markdown",
   "id": "2b74dc05-5df0-403e-b522-1b5a229b49ff",
   "metadata": {},
   "source": [
    "# 4.- Construccion del Modelo."
   ]
  },
  {
   "cell_type": "code",
   "execution_count": null,
   "id": "16a90a98-e6ae-4dfd-9ed9-74987a3141ce",
   "metadata": {},
   "outputs": [],
   "source": [
    "from sklearn.linear_model import LinearRegression"
   ]
  },
  {
   "cell_type": "code",
   "execution_count": null,
   "id": "fb29b65f-8c2a-4f0d-ad4e-d6423629958e",
   "metadata": {},
   "outputs": [],
   "source": [
    "# Construccion del modelo y ajuste de la funcion de hipotesis\n",
    "lin_reg = LinearRegression()\n",
    "lin_reg.fit(df['No_Equipos_Afectados'].values.reshape(-1, 1), df['Costo'].values)"
   ]
  },
  {
   "cell_type": "markdown",
   "id": "4fa12056-9d3c-45cd-a0ab-bdde53ed3546",
   "metadata": {},
   "source": [
    "<img src=\"http://localhost:5000/archivos/4.png\">\n"
   ]
  },
  {
   "cell_type": "code",
   "execution_count": null,
   "id": "25d1e314-70c5-4550-bda1-e0852e00c123",
   "metadata": {},
   "outputs": [],
   "source": [
    "# Parametro Tetha 0\n",
    "lin_reg.intercept_"
   ]
  },
  {
   "cell_type": "code",
   "execution_count": null,
   "id": "f94a1943-4647-4d56-bbb8-a4e5b52a02bc",
   "metadata": {},
   "outputs": [],
   "source": [
    "# Paramètro Tetha 1\n",
    "lin_reg.coef_"
   ]
  },
  {
   "cell_type": "code",
   "execution_count": null,
   "id": "dcdf496f-3448-427c-b889-d0e460b03eec",
   "metadata": {},
   "outputs": [],
   "source": [
    "# Predicion para el valor minimo y maximo para el conjunto de datos de entrenamiento.\n",
    "X_min_max = np.array([[df[\"No_Equipos_Afectados\"].min()],[df[\"No_Equipos_Afectados\"].max()]])\n",
    "y_train_pred = lin_reg.predict(X_min_max)"
   ]
  },
  {
   "cell_type": "code",
   "execution_count": null,
   "id": "e610ea1f-0b0f-4989-9f36-3b71ebdd7de0",
   "metadata": {},
   "outputs": [],
   "source": [
    "# Representacion grafica de la funcion de hipotesis generada\n",
    "plt.plot(X_min_max, y_train_pred, \"g-\")\n",
    "plt.plot(df['No_Equipos_Afectados'], df['Costo'], \"b.\")\n",
    "plt.xlabel(\"Equipos Afectados\")\n",
    "plt.ylabel(\"Costo del incidente\")\n",
    "plt.show"
   ]
  },
  {
   "cell_type": "markdown",
   "id": "ce152fe6-ef5e-490e-85d3-adb82dcb5f67",
   "metadata": {},
   "source": [
    "<img src=\"http://localhost:5000/archivos/5.png\">\n"
   ]
  },
  {
   "cell_type": "markdown",
   "id": "2326b300-53d0-400f-bf88-80fec7634881",
   "metadata": {},
   "source": [
    "# 5.- Prediccion de nuevos ejemplos"
   ]
  },
  {
   "cell_type": "code",
   "execution_count": null,
   "id": "e3ba7b7a-8f0e-46ca-a24b-4018153d2590",
   "metadata": {},
   "outputs": [],
   "source": [
    "x_new = np.array([[1300]]) # Numero de equipos afectados.\n",
    "# Prediccion del costo que tendria el incidente.\n",
    "Costo = lin_reg.predict(x_new) \n",
    "print(\"El costo del incidente seria: $\", int(Costo[0]))"
   ]
  },
  {
   "cell_type": "code",
   "execution_count": null,
   "id": "dd2ae860-af00-4ec9-a600-03d7c62fd187",
   "metadata": {},
   "outputs": [],
   "source": [
    "plt.plot(df[\"No_Equipos_Afectados\"], df[\"Costo\"], \"b.\")\n",
    "plt.plot(X_min_max , y_train_pred, \"g-\")\n",
    "plt.plot(x_new, Costo, \"rs\")\n",
    "plt.xlabel(\"Equipos Afectados\")\n",
    "plt.ylabel(\"Costo del incidente\")\n",
    "plt.show()"
   ]
  },
  {
   "cell_type": "markdown",
   "id": "ce2c8c46-6423-42e9-9d41-86a548bb8d24",
   "metadata": {},
   "source": [
    "<img src=\"http://localhost:5000/archivos/6.png\">\n"
   ]
  }
 ],
 "metadata": {
  "kernelspec": {
   "display_name": "Python 3 (ipykernel)",
   "language": "python",
   "name": "python3"
  },
  "language_info": {
   "codemirror_mode": {
    "name": "ipython",
    "version": 3
   },
   "file_extension": ".py",
   "mimetype": "text/x-python",
   "name": "python",
   "nbconvert_exporter": "python",
   "pygments_lexer": "ipython3",
   "version": "3.12.4"
  }
 },
 "nbformat": 4,
 "nbformat_minor": 5
}
